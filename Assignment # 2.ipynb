{
 "cells": [
  {
   "cell_type": "code",
   "execution_count": 1,
   "metadata": {},
   "outputs": [
    {
     "name": "stdout",
     "output_type": "stream",
     "text": [
      "Enter marks of Math87\n",
      "Enter marks of Physics76\n",
      "Enter marks of Chemistry98\n",
      "Enter marks of Urdu76\n",
      "Enter marks of English68\n",
      "Total marks is 500\n",
      "Obtained marks is 405\n",
      "Percentage is  81.0\n",
      "A1 Grade\n"
     ]
    }
   ],
   "source": [
    "maths=int(input(\"Enter marks of Math\"))\n",
    "physics=int(input(\"Enter marks of Physics\"))\n",
    "chemistry=int(input(\"Enter marks of Chemistry\"))\n",
    "urdu=int(input(\"Enter marks of Urdu\"))\n",
    "english=int(input(\"Enter marks of English\"))\n",
    "\n",
    "print(\"Total marks is 500\")\n",
    "total = maths+physics+chemistry+urdu+english;\n",
    "print(\"Obtained marks is\",total)\n",
    "per= (total/500)*100;\n",
    "print(\"Percentage is \",per)\n",
    "if per>=80 and per<=100:\n",
    " print(\"A1 Grade\")\n",
    "if per>=70 and per<80:\n",
    "   print(\"A Grade\")\n",
    "if per>=60 and per<70:\n",
    "   print(\"BGrade\")\n",
    "if  per>=50 and per<60:\n",
    " print(\"C Grade\")\n",
    "if per>=40 and per<50:\n",
    " print(\"D Grade\")\n",
    "if per>=0 and per<40:\n",
    "  print(\"Fail\");\n"
   ]
  },
  {
   "cell_type": "code",
   "execution_count": 4,
   "metadata": {},
   "outputs": [
    {
     "name": "stdout",
     "output_type": "stream",
     "text": [
      "Enter number7\n",
      "Number is odd\n"
     ]
    }
   ],
   "source": [
    " num = int(input(\"Enter number\"))\n",
    "if num % 2 == 0:\n",
    "  print(\"Number is even\")\n",
    "else:\n",
    "  print(\"Number is odd\")\n",
    "\n",
    "\n"
   ]
  },
  {
   "cell_type": "code",
   "execution_count": 7,
   "metadata": {},
   "outputs": [
    {
     "name": "stdout",
     "output_type": "stream",
     "text": [
      " list of length is:  3\n"
     ]
    }
   ],
   "source": [
    "list = [123, 'xyz', 'zara']\n",
    "print (\" list of length is: \", len(list))\n"
   ]
  },
  {
   "cell_type": "code",
   "execution_count": 8,
   "metadata": {},
   "outputs": [
    {
     "name": "stdout",
     "output_type": "stream",
     "text": [
      "13\n"
     ]
    }
   ],
   "source": [
    "def sum_list(items):\n",
    "    sum_num = 0\n",
    "    for x in items:\n",
    "        sum_num += x\n",
    "    return sum_num\n",
    "print(sum_list([5,3,7,-2]))\n",
    "\n"
   ]
  },
  {
   "cell_type": "code",
   "execution_count": 11,
   "metadata": {},
   "outputs": [
    {
     "name": "stdout",
     "output_type": "stream",
     "text": [
      "enter number 4\n",
      "enter number7\n",
      "enter number4\n",
      "Largest numeric value is:  7\n"
     ]
    }
   ],
   "source": [
    "a=int(input(\"enter number \"))\n",
    "b=int(input(\"enter number\"))\n",
    "c=int(input(\"enter number\"))\n",
    "if a>b and a>c:\n",
    "\tprint(\"Largest numeric value is: \",a);\n",
    "if b>a and b>c:\n",
    "\tprint(\"Largest numeric value is: \",b);\n",
    "if c>a and c>b:\n",
    "\tprint(\"Largest numeric value is: \",c);\n",
    "\n"
   ]
  },
  {
   "cell_type": "markdown",
   "metadata": {},
   "source": [
    "###### "
   ]
  },
  {
   "cell_type": "code",
   "execution_count": 27,
   "metadata": {},
   "outputs": [
    {
     "name": "stdout",
     "output_type": "stream",
     "text": [
      "[1]\n",
      "[1, 1]\n",
      "[1, 1, 2]\n",
      "[1, 1, 2, 3]\n"
     ]
    }
   ],
   "source": [
    "\n",
    "a = [1, 1, 2, 3, 5, 8, 13, 21, 34, 55, 89]\n",
    "\n",
    "\t\n",
    "new_list = []\n",
    "\t\n",
    "for item in a:\n",
    "\t  \n",
    "    if item < 5:\n",
    "\t    \n",
    "\t    new_list.append(item)\n",
    "\t    print(new_list)\n",
    "\t\n",
    "\n"
   ]
  },
  {
   "cell_type": "code",
   "execution_count": null,
   "metadata": {},
   "outputs": [],
   "source": []
  }
 ],
 "metadata": {
  "kernelspec": {
   "display_name": "Python 3",
   "language": "python",
   "name": "python3"
  },
  "language_info": {
   "codemirror_mode": {
    "name": "ipython",
    "version": 3
   },
   "file_extension": ".py",
   "mimetype": "text/x-python",
   "name": "python",
   "nbconvert_exporter": "python",
   "pygments_lexer": "ipython3",
   "version": "3.7.4"
  }
 },
 "nbformat": 4,
 "nbformat_minor": 2
}
