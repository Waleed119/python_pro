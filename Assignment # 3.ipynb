{
 "cells": [
  {
   "cell_type": "code",
   "execution_count": 3,
   "metadata": {},
   "outputs": [
    {
     "name": "stdout",
     "output_type": "stream",
     "text": [
      "Enter the first value4\n",
      "Enter the first value4\n",
      "Enter the operator**\n",
      "256 answer\n"
     ]
    }
   ],
   "source": [
    "val1 = input(\"Enter the first value\")\n",
    "val2 = input(\"Enter the first value\")\n",
    "operator = input(\"Enter the operator\")\n",
    "\n",
    "val1=int(val1)\n",
    "val2=int(val2)\n",
    "\n",
    "if operator =='+':\n",
    "   val=val1+val2\n",
    "   print(val,'answer')\n",
    "elif operator =='-':\n",
    "   val=val1-val2\n",
    "   print(val,'answer')\n",
    "elif operator =='*':\n",
    "   val=val1*val2\n",
    "   print(val,'answer')\n",
    "elif operator =='/':\n",
    "   val=val1/val2\n",
    "   print(val,'answer')\n",
    "elif operator =='**':\n",
    "   val= val1**val2\n",
    "   print(val,'answer')\n",
    "else:\n",
    "   print(\"incorect operator\")"
   ]
  },
  {
   "cell_type": "code",
   "execution_count": 7,
   "metadata": {},
   "outputs": [
    {
     "name": "stdout",
     "output_type": "stream",
     "text": [
      "60 is a numeric Value in List\n",
      "20 is a numeric Value in List\n",
      "14.2 is a numeric Value in List\n"
     ]
    }
   ],
   "source": [
    "arr = ['colour','car',60,20,True,14.2,'a','b']\n",
    "for i in arr:\n",
    "    if type(i) == int:\n",
    "        print(i,\"is a numeric Value in List\")\n",
    "    elif type(i) == float:\n",
    "        print(i,\"is a numeric Value in List\")\n",
    "\n",
    "\n",
    "\n"
   ]
  },
  {
   "cell_type": "code",
   "execution_count": 4,
   "metadata": {},
   "outputs": [
    {
     "name": "stdout",
     "output_type": "stream",
     "text": [
      "Enter Keycar\n",
      "Enter Valuewhite\n",
      "{'car': 'white'}\n"
     ]
    }
   ],
   "source": [
    "dic = {}\n",
    "keyinput = input(\"Enter Key\")\n",
    "valueinput = input(\"Enter Value\")\n",
    "dic.update({keyinput:valueinput})\n",
    "\n",
    "print(dic)\n",
    "\n"
   ]
  },
  {
   "cell_type": "code",
   "execution_count": 33,
   "metadata": {},
   "outputs": [
    {
     "name": "stdout",
     "output_type": "stream",
     "text": [
      "Total sum of values in the dictionary:\n",
      "320\n"
     ]
    }
   ],
   "source": [
    "dic={'A':148,'B':120,'C':52}\n",
    "print(\"Total sum of values in the dictionary:\")\n",
    "print(sum(dic.values()))\n"
   ]
  },
  {
   "cell_type": "code",
   "execution_count": 34,
   "metadata": {},
   "outputs": [
    {
     "name": "stdout",
     "output_type": "stream",
     "text": [
      "[6, 7, 11, 15, 15, 20, 20, 20, 30, 30, 40, 40, 50, 50]\n",
      "[15, 20, 30, 40, 50]\n"
     ]
    }
   ],
   "source": [
    "my_list = [20,30,20,30,40,50,15,11,20,40,50,15,6,7]\n",
    " \n",
    "my_list.sort()\n",
    "print(my_list)\n",
    " \n",
    "new_list = sorted(set(my_list))\n",
    "dup_list =[]\n",
    "\n",
    " \n",
    "for i in range(len(new_list)):\n",
    "        if (my_list.count(new_list[i]) > 1 ):\n",
    "            dup_list.append(new_list[i])\n",
    "       \n",
    "print(dup_list) \n"
   ]
  },
  {
   "cell_type": "code",
   "execution_count": 36,
   "metadata": {},
   "outputs": [
    {
     "name": "stdout",
     "output_type": "stream",
     "text": [
      "Enter key to check:B\n",
      "Key is present and value of the key is:\n",
      "2\n"
     ]
    }
   ],
   "source": [
    "d={'A':1,'B':2,'C':3}\n",
    "key=input(\"Enter key to check:\")\n",
    "if key in d.keys():\n",
    "      print(\"Key is present and value of the key is:\")\n",
    "      print(d[key])\n",
    "else:\n",
    "      print(\"Key isn't present!\")\n",
    "\n"
   ]
  },
  {
   "cell_type": "code",
   "execution_count": null,
   "metadata": {},
   "outputs": [],
   "source": []
  }
 ],
 "metadata": {
  "kernelspec": {
   "display_name": "Python 3",
   "language": "python",
   "name": "python3"
  },
  "language_info": {
   "codemirror_mode": {
    "name": "ipython",
    "version": 3
   },
   "file_extension": ".py",
   "mimetype": "text/x-python",
   "name": "python",
   "nbconvert_exporter": "python",
   "pygments_lexer": "ipython3",
   "version": "3.7.4"
  }
 },
 "nbformat": 4,
 "nbformat_minor": 2
}
